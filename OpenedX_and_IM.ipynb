{
 "cells": [
  {
   "cell_type": "markdown",
   "metadata": {
    "slideshow": {
     "slide_type": "slide"
    }
   },
   "source": [
    "# <center> Open edX和IM的结合  </center>\n",
    "\n",
    "\n",
    "<center>\n",
    "\n",
    "\n",
    "<p> <b>wwj718</b>\n",
    "\n",
    "<p> 2016-07-17\n",
    "\n",
    "<p>Beijing Open edX Meetup\n",
    "</center>"
   ]
  },
  {
   "cell_type": "markdown",
   "metadata": {
    "slideshow": {
     "slide_type": "slide"
    }
   },
   "source": [
    "# 相关话题\n",
    "*  开源\n",
    "*  异构系统\n",
    "*  OAuth2\n",
    "*  docker"
   ]
  },
  {
   "cell_type": "markdown",
   "metadata": {
    "slideshow": {
     "slide_type": "slide"
    }
   },
   "source": [
    "# [Rocket.Chat](https://github.com/RocketChat/Rocket.Chat)\n",
    "\n",
    ">  Your own open source Slack-like chat\n"
   ]
  },
  {
   "cell_type": "markdown",
   "metadata": {
    "slideshow": {
     "slide_type": "subslide"
    }
   },
   "source": [
    "# 吸引我的特性\n",
    "*  自托管，支持docker\n",
    "*  跨平台（web/mobile/desktop）\n",
    "*  私有群组\n",
    "*  桌面通知\n",
    "*  @某人\n",
    "*  Markdown支持\n",
    "*  Emojis\n",
    "*  内嵌多媒体\n",
    "*  超链智能解析预览\n",
    "*  文件上传\n",
    "*  全文搜索\n",
    "*  消息收藏\n",
    "*  客服系统\n",
    "*  I18N\n",
    "*  REST APIs\n",
    "*  支持webhook\n",
    "*  支持聊天机器人\n",
    "*  cas/oauth2"
   ]
  },
  {
   "cell_type": "markdown",
   "metadata": {
    "slideshow": {
     "slide_type": "subslide"
    }
   },
   "source": [
    "# 一图胜千言\n",
    "![demo1]( https://leanote.com/api/file/getImage?fileId=5788ac74ab644135ea00ffb8)"
   ]
  },
  {
   "cell_type": "markdown",
   "metadata": {
    "slideshow": {
     "slide_type": "subslide"
    }
   },
   "source": [
    "### 音频和文件\n",
    "![demo2](https://leanote.com/api/file/getImage?fileId=5788ac74ab644135ea00ffb9)"
   ]
  },
  {
   "cell_type": "markdown",
   "metadata": {
    "slideshow": {
     "slide_type": "subslide"
    }
   },
   "source": [
    "![]( https://leanote.com/api/file/getImage?fileId=5788b116ab644135ea01001e)"
   ]
  },
  {
   "cell_type": "markdown",
   "metadata": {},
   "source": [
    "<img src=\"https://leanote.com/api/file/getImage?fileId=5788b116ab644135ea01001d\" style=\"float:left\" />\n",
    "\n",
    "![](https://leanote.com/api/file/getImage?fileId=5788b116ab644135ea01001c)"
   ]
  },
  {
   "cell_type": "markdown",
   "metadata": {
    "slideshow": {
     "slide_type": "slide"
    }
   },
   "source": [
    "# docker化\n",
    "使构建复杂系统如安装软件一般便利"
   ]
  },
  {
   "cell_type": "markdown",
   "metadata": {
    "slideshow": {
     "slide_type": "subslide"
    }
   },
   "source": [
    "`vim docker-compose.yml`\n",
    "\n",
    "```\n",
    "db:\n",
    "  image: mongo\n",
    "  volumes:\n",
    "    - $PWD/data:/data/db\n",
    "    - $PWD/dump:/dump\n",
    "  command: mongod --smallfiles\n",
    "web:\n",
    "  image: rocketchat/rocket.chat\n",
    "  environment:\n",
    "    - MONGO_URL=mongodb://db:27017/meteor\n",
    "    - ROOT_URL=http://119.254.98.58:8818\n",
    "  links:\n",
    "    - db:db\n",
    "  ports:\n",
    "    - 8818:3000\n",
    "\n",
    "```\n",
    "\n",
    "`docker-compose up`"
   ]
  },
  {
   "cell_type": "markdown",
   "metadata": {
    "slideshow": {
     "slide_type": "slide"
    }
   },
   "source": [
    "# 与Open edX整合<!--截图说明-->\n",
    "![oauth2](https://leanote.com/api/file/getImage?fileId=5788a9a9ab644135ea00ff8c)"
   ]
  },
  {
   "cell_type": "markdown",
   "metadata": {
    "slideshow": {
     "slide_type": "subslide"
    }
   },
   "source": [
    "# 集成到Open edX中\n",
    "![集成](https://leanote.com/api/file/getImage?fileId=5788acb4ab644133ed00f88c)"
   ]
  },
  {
   "cell_type": "markdown",
   "metadata": {
    "slideshow": {
     "slide_type": "subslide"
    }
   },
   "source": [
    "# 与任何系统整合\n",
    "just do it"
   ]
  },
  {
   "cell_type": "markdown",
   "metadata": {
    "slideshow": {
     "slide_type": "slide"
    }
   },
   "source": [
    "# 客服系统（livechat）\n",
    "![livechat1]( https://leanote.com/api/file/getImage?fileId=5788abd7ab644135ea00ffb1)"
   ]
  },
  {
   "cell_type": "markdown",
   "metadata": {
    "slideshow": {
     "slide_type": "subslide"
    }
   },
   "source": [
    "# 客服系统后台\n",
    "![livechat2]( https://leanote.com/api/file/getImage?fileId=5788ac1bab644135ea00ffb3)"
   ]
  },
  {
   "cell_type": "markdown",
   "metadata": {
    "slideshow": {
     "slide_type": "slide"
    }
   },
   "source": [
    "# link\n",
    "*  [为你的服务构建即时通讯和客服系统](http://blog.just4fun.site/build-im.html)"
   ]
  }
 ],
 "metadata": {
  "celltoolbar": "Slideshow",
  "kernelspec": {
   "display_name": "Python 2",
   "language": "python",
   "name": "python2"
  },
  "language_info": {
   "codemirror_mode": {
    "name": "ipython",
    "version": 2
   },
   "file_extension": ".py",
   "mimetype": "text/x-python",
   "name": "python",
   "nbconvert_exporter": "python",
   "pygments_lexer": "ipython2",
   "version": "2.7.5"
  },
  "toc": {
   "toc_cell": false,
   "toc_number_sections": true,
   "toc_threshold": 6,
   "toc_window_display": false
  }
 },
 "nbformat": 4,
 "nbformat_minor": 0
}
