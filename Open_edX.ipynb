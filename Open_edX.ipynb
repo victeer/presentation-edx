{
 "cells": [
  {
   "cell_type": "code",
   "execution_count": 3,
   "metadata": {
    "collapsed": true,
    "slideshow": {
     "slide_type": "skip"
    }
   },
   "outputs": [],
   "source": [
    "%matplotlib inline"
   ]
  },
  {
   "cell_type": "raw",
   "metadata": {
    "slideshow": {
     "slide_type": "skip"
    }
   },
   "source": [
    "<style type=\"text/css\">\n",
    ".reveal h1, .reveal h2 {\n",
    "    font-family:\"League Gothic\"\n",
    "}\n",
    "// 通过写css来控制布局\n",
    "</style>\n"
   ]
  },
  {
   "cell_type": "markdown",
   "metadata": {
    "slideshow": {
     "slide_type": "notes"
    }
   },
   "source": [
    "Hello everyone! My name is wenjie wu and today I am here to talk to about \"Open edX Architecture\".\n",
    "\n",
    "Thank you for coming to my talk.\n",
    "\n",
    "A bit about me - I am a software engineer .\n",
    "\n",
    "There is a link to my blog, GitHub. so, if you want to learn more about my work or get in touch, those are the means to do so!\n",
    "\n",
    "Okay, so all that aside - let's start with the talk!"
   ]
  },
  {
   "cell_type": "markdown",
   "metadata": {
    "slideshow": {
     "slide_type": "slide"
    }
   },
   "source": [
    "# <center> Open edX Architecture  </center>\n",
    "\n",
    "\n",
    "<center>\n",
    "\n",
    "\n",
    "<p> <b>wwj718</b>\n",
    "\n",
    "<p>2016-07-17\n",
    "\n",
    "<p>Beijing Open edX Meetup\n",
    "</center>"
   ]
  },
  {
   "cell_type": "markdown",
   "metadata": {
    "slideshow": {
     "slide_type": "notes"
    }
   },
   "source": [
    "### The Zen of Python\n",
    "\n",
    "```python\n",
    "\n",
    ">>> import this\n",
    "The Zen of Python , by Tim Peters\n",
    "\n",
    "Beautiful is better than ugly.\n",
    "Explicit is better than implicit.\n",
    "Simple is better than complex.\n",
    "Complex is better than complicated.\n",
    "Flat is better than nested.\n",
    "Sparse is better than dense.\n",
    "Readability counts.\n",
    "Special cases aren't special enough to break the rules.\n",
    "Although practicality beats purity.\n",
    "Errors should never pass silently.\n",
    "Unless explicitly silenced.\n",
    "In the face of ambiguity, refuse the temptation to guess.\n",
    "There should be one-- and preferably only one --obvious way to do it.\n",
    "Although that way may not be obvious at first unless you're Dutch.\n",
    "Now is better than never.\n",
    "Although never is often better than *right* now.\n",
    "If the implementation is hard to explain, it's a bad idea.\n",
    "If the implementation is easy to explain, it may be a good idea.\n",
    "Namespaces are one honking great idea -- let's do more of those!\n",
    "\n",
    "```"
   ]
  },
  {
   "cell_type": "markdown",
   "metadata": {
    "slideshow": {
     "slide_type": "slide"
    }
   },
   "source": [
    "> #  如果你不能最终告诉别人你一直在做什么，那么，你的研究将一文不值  \n",
    "<h2 style=\"float:right\">--薛定谔</h2>"
   ]
  },
  {
   "cell_type": "markdown",
   "metadata": {
    "slideshow": {
     "slide_type": "slide"
    }
   },
   "source": [
    "# <center> About me  </center>\n",
    "\n",
    "\n"
   ]
  },
  {
   "cell_type": "markdown",
   "metadata": {
    "slideshow": {
     "slide_type": "subslide"
    }
   },
   "source": [
    "##  我做过的一些东西 <!--开源--> \n",
    "*  [edx_siteapi](https://github.com/wwj718/edx_siteapi)：RESTful API for edx studio and lms（CRUD）\n",
    "*  [django_cas_server_lite](https://github.com/wwj718/django_cas_server_lite)：基于django的精简cas服务器\n",
    "*  [course_backup](https://github.com/wwj718/course_backup)：edx自动化课程备份工具（pip包）\n",
    "*  [edx_tools](https://github.com/wwj718/edx_tools):在本地管理和调试远程edx服务器\n",
    "*  [cookiecutter-xblock](https://github.com/wwj718/cookiecutter-xblock):xblock生成器\n",
    "*  [edx_cypress_docker](https://github.com/wwj718/edx_cypress_docker):Open edX的docker封装"
   ]
  },
  {
   "cell_type": "markdown",
   "metadata": {
    "slideshow": {
     "slide_type": "subslide"
    }
   },
   "source": [
    "## github and blog\n",
    "- [blog.just4fun.site](http://blog.just4fun.site)\n",
    "\n",
    "- [github.com/wwj718](github.com/wwj718)\n",
    "\n",
    "\n",
    "## Contact\n",
    "\n",
    "- Email: [wuwenjie718@gmail.com]((mailto:wuwenjie718@gmail.com)\n"
   ]
  },
  {
   "cell_type": "markdown",
   "metadata": {
    "slideshow": {
     "slide_type": "subslide"
    }
   },
   "source": [
    "# 我的兴趣\n",
    "*  开源技术/教育信息化\n",
    "*  网站架构/分布式\n",
    "*  数据分析/数据采集（爬虫）/可视化\n",
    "*  机器学习/AI\n",
    "*  信息安全/密码学\n",
    "*  区块链/以太坊\n",
    "*  科幻/武侠小说/旧体诗词/分析哲学\n",
    "*  骑车/爬山/台球/跑步/逛书店"
   ]
  },
  {
   "cell_type": "code",
   "execution_count": null,
   "metadata": {
    "collapsed": true,
    "slideshow": {
     "slide_type": "notes"
    }
   },
   "outputs": [],
   "source": [
    "一无所精"
   ]
  },
  {
   "cell_type": "markdown",
   "metadata": {
    "slideshow": {
     "slide_type": "slide"
    }
   },
   "source": [
    "\n",
    "# 新旧架构图\n",
    "\n",
    "\n",
    "有何不同? \n",
    "\n",
    "\n",
    "\n",
    "\n",
    "\n",
    "\n"
   ]
  },
  {
   "cell_type": "markdown",
   "metadata": {
    "slideshow": {
     "slide_type": "subslide"
    }
   },
   "source": [
    "### 旧的结构\n",
    "<img align=\"center\" src=\"https://open.edx.org/sites/default/files/wysiwyg/open-edx-pages/edX_architecture_CMS_LMS_0.png\" href=\"https://open.edx.org/sites/default/files/wysiwyg/open-edx-pages/edX_architecture_CMS_LMS_0.png\"></img>\n",
    "\n"
   ]
  },
  {
   "cell_type": "code",
   "execution_count": null,
   "metadata": {
    "collapsed": true,
    "slideshow": {
     "slide_type": "notes"
    }
   },
   "outputs": [],
   "source": [
    "新标签页打开大图"
   ]
  },
  {
   "cell_type": "markdown",
   "metadata": {
    "slideshow": {
     "slide_type": "subslide"
    }
   },
   "source": [
    "###  新的结构\n",
    "\n",
    "![新架构](https://edx.readthedocs.io/projects/edx-developer-guide/en/latest/_images/edx-architecture.png)\n"
   ]
  },
  {
   "cell_type": "markdown",
   "metadata": {
    "slideshow": {
     "slide_type": "slide"
    }
   },
   "source": [
    "# 核心组件"
   ]
  },
  {
   "cell_type": "code",
   "execution_count": null,
   "metadata": {
    "collapsed": true,
    "slideshow": {
     "slide_type": "notes"
    }
   },
   "outputs": [],
   "source": [
    "引旧版\n",
    "新版：http://edx.readthedocs.io/projects/edx-developer-guide/en/latest/architecture.html"
   ]
  },
  {
   "cell_type": "markdown",
   "metadata": {
    "slideshow": {
     "slide_type": "slide"
    }
   },
   "source": [
    "## Learning Management System (LMS)\n",
    "\n",
    "```python\n",
    ">>> sudo -u www-data /edx/bin/python.edxapp /edx/app/edxapp/edx-platform/manage.py lms runserver 0.0.0.0:5000 --settings devstack\n",
    "```\n"
   ]
  },
  {
   "cell_type": "markdown",
   "metadata": {
    "slideshow": {
     "slide_type": "subslide"
    }
   },
   "source": [
    "### 前端\n",
    "\n",
    "<img  style=\"float:right;\" src=\"https://leanote.com/api/file/getImage?fileId=57879b2cab644135ea00eba9\" href=\"https://leanote.com/api/file/getImage?fileId=57879b2cab644135ea00eba9\"></img>\n",
    "\n",
    "*  Mako\n",
    "*  JavaScript / CoffeeScrip\n",
    "    *  Backbone.js\n",
    "*  css\n",
    "    *  Sass \n",
    "    *  Bourbon framework\n",
    "*  其他\n",
    "    *  requirejs\n",
    "    *  underscore.js\n",
    "\n",
    "\n"
   ]
  },
  {
   "cell_type": "markdown",
   "metadata": {
    "slideshow": {
     "slide_type": "subslide"
    }
   },
   "source": [
    "# 项目结构\n",
    "![](https://leanote.com/api/file/getImage?fileId=578a49afab644135ea01193d)"
   ]
  },
  {
   "cell_type": "markdown",
   "metadata": {
    "collapsed": true,
    "slideshow": {
     "slide_type": "subslide"
    }
   },
   "source": [
    "## Studio（CMS）\n",
    "```python\n",
    ">>> sudo -u www-data /edx/bin/python.edxapp /edx/app/edxapp/edx-platform/manage.py cms runserver 0.0.0.0:5000 --settings devstack\n",
    "```"
   ]
  },
  {
   "cell_type": "markdown",
   "metadata": {
    "slideshow": {
     "slide_type": "subslide"
    }
   },
   "source": [
    "## Discussions\n",
    "*   Ruby \n",
    "    *  Sinatra\n",
    "*  MongoDB"
   ]
  },
  {
   "cell_type": "markdown",
   "metadata": {
    "collapsed": true,
    "slideshow": {
     "slide_type": "subslide"
    }
   },
   "source": [
    "## Analytics\n",
    "*  edx-analytics-dashboard\n",
    "*  edx-analytics-pipeline\n",
    "*  edx-analytics-data-api\n",
    "\n",
    "\n",
    "![架构](https://edx.readthedocs.io/projects/edx-developer-guide/en/latest/_images/edx-architecture-analytics.png)"
   ]
  },
  {
   "cell_type": "markdown",
   "metadata": {
    "slideshow": {
     "slide_type": "subslide"
    }
   },
   "source": [
    "## Background Work\n",
    "*  Celery \n",
    "*  RabbitMQ\n",
    "*  场景\n",
    "    *  群发邮件\n",
    "    *  成绩单导出\n",
    "    *  生成证书\n",
    "    *  XQUEUE"
   ]
  },
  {
   "cell_type": "markdown",
   "metadata": {
    "slideshow": {
     "slide_type": "subslide"
    }
   },
   "source": [
    "## Search\n",
    "*  Elasticsearch\n",
    "*  场景\n",
    "    *  笔记系统\n",
    "    *  课程搜索\n",
    "    *  内容搜索\n",
    "    *  论坛搜索"
   ]
  },
  {
   "cell_type": "markdown",
   "metadata": {
    "slideshow": {
     "slide_type": "slide"
    }
   },
   "source": [
    "# 复杂性"
   ]
  },
  {
   "cell_type": "markdown",
   "metadata": {
    "slideshow": {
     "slide_type": "fragment"
    }
   },
   "source": [
    "* 项目大\n",
    "* 组件多\n",
    "* 技术新\n",
    "* 文档匮乏\n",
    "* 变化激烈"
   ]
  },
  {
   "cell_type": "markdown",
   "metadata": {
    "slideshow": {
     "slide_type": "slide"
    }
   },
   "source": [
    "## 异构\n",
    "*  Python Nodejs Ruby \n",
    "*  Mysql MongoDB \n",
    "*  Backbone.js Require.js\n"
   ]
  },
  {
   "cell_type": "markdown",
   "metadata": {
    "slideshow": {
     "slide_type": "slide"
    }
   },
   "source": [
    "# RESTful\n",
    "*  多组件/服务化\n",
    "*  API\n",
    "*  OAuth2\n",
    "*  例子\n",
    "    *  insight\n",
    "    *  笔记系统\n",
    "        *  开放出来\n",
    "            *  https://note.just4fun.site\n",
    "    *  与外部系统聚合\n",
    "        *  rocket chat\n",
    "        *  在线编程\n",
    "* siteapi\n",
    "    *  spoc"
   ]
  },
  {
   "cell_type": "markdown",
   "metadata": {
    "slideshow": {
     "slide_type": "subslide"
    }
   },
   "source": [
    "### 服务组件化带来的好处(易于分布式)\n",
    "![](https://leanote.com/api/file/getImage?fileId=578a5098ab644133ed01154d)"
   ]
  },
  {
   "cell_type": "markdown",
   "metadata": {
    "slideshow": {
     "slide_type": "slide"
    }
   },
   "source": [
    "# 扩展性\n",
    "*  XBlock\n",
    "    *  通用iframe组件\n",
    "*  LTI\n",
    "    *  bbb\n",
    "    *  canvas\n",
    "*  embedded Python code\n",
    "*  JS Input\n",
    "    *  案例\n",
    "        *  外部题库\n",
    "        *  外部编程\n",
    "    *  特性：非侵入性，聚合资源，纳入edx评价体系\n",
    "*  djangoapp"
   ]
  },
  {
   "cell_type": "code",
   "execution_count": null,
   "metadata": {
    "collapsed": true,
    "slideshow": {
     "slide_type": "notes"
    }
   },
   "outputs": [],
   "source": [
    "贴图"
   ]
  },
  {
   "cell_type": "markdown",
   "metadata": {
    "slideshow": {
     "slide_type": "slide"
    }
   },
   "source": [
    "#  开放性\n",
    "*  API\n",
    "*  data\n",
    "    *  学习行为\n",
    "    *  成绩数据（匿名数据）\n",
    "*  LTI\n",
    "*  Open Learning XML (OLX)\n",
    "    *  spoc\n",
    "        *  整合既有课程"
   ]
  },
  {
   "cell_type": "markdown",
   "metadata": {
    "slideshow": {
     "slide_type": "slide"
    }
   },
   "source": [
    "# 未来\n",
    "*  生态系统\n",
    "    *  课程是跑在edx上的开源软件\n",
    "*  开放教育"
   ]
  },
  {
   "cell_type": "code",
   "execution_count": 5,
   "metadata": {
    "collapsed": false,
    "slideshow": {
     "slide_type": "skip"
    }
   },
   "outputs": [
    {
     "data": {
      "image/png": "[encoded data removed]",
      "text/plain": [
       "<matplotlib.figure.Figure at 0x1113f94a8>"
      ]
     },
     "metadata": {},
     "output_type": "display_data"
    }
   ],
   "source": [
    "# Create graphs from algebraic expressions\n",
    "\n",
    "from sympy import Symbol, plot\n",
    "x = Symbol('x')\n",
    "p = plot(2*x**2 + 2*x + 2)\n"
   ]
  },
  {
   "cell_type": "markdown",
   "metadata": {
    "slideshow": {
     "slide_type": "skip"
    }
   },
   "source": [
    "### Book: Doing Math With Python\n",
    "\n",
    "<img align=\"center\" src=\"images/dmwp-cover.png\" href=\"https://doingmathwithpython.github.io\"></img>\n",
    "\n",
    "Overview\n",
    "\n",
    "- All of what I have discussed so far\n"
   ]
  },
  {
   "cell_type": "markdown",
   "metadata": {
    "slideshow": {
     "slide_type": "slide"
    }
   },
   "source": [
    "### Links\n",
    "\n",
    "- [Open edX体系架构(旧版)[译文]](http://blog.just4fun.site/Open-edX-Architecture-Translation.html)\n",
    "- [Open edX Architecture](https://edx.readthedocs.io/projects/edx-developer-guide/en/latest/architecture.html)\n",
    "    -  [Hosting Architecture at edX(slides)](https://docs.google.com/viewer?url=https%3A%2F%2Fedxportal.s3.amazonaws.com%2Fresources%2FHosting_for_edX_0.pdf%3FAWSAccessKeyId%3DAKIAIA5GG43VEZFEWO5Q%26Expires%3D1468502703%26Signature%3D7cSUQ%252FUMscE7hzz1VfZ3tfZfJXA%253D)\n",
    "\n"
   ]
  },
  {
   "cell_type": "markdown",
   "metadata": {
    "slideshow": {
     "slide_type": "slide"
    }
   },
   "source": [
    "# 计划开源的项目\n",
    "### 数据分析\n",
    "*  基于elk的track log实时数据分析\n",
    "*  基于caravel的数据库挖掘和可视化\n",
    "*  基于pandas的数据探索\n"
   ]
  },
  {
   "cell_type": "markdown",
   "metadata": {
    "collapsed": true,
    "slideshow": {
     "slide_type": "notes"
    }
   },
   "source": [
    ">  如果没有更多的精力推进一个有趣的想法，最好的方式就是将它开源\n",
    ">  学习一样东西的最好方式就是去将它教授给其他人\n",
    ">  如果你不能最终告诉别人你一直在做什么，那么你的研究就一文不值"
   ]
  }
 ],
 "metadata": {
  "celltoolbar": "Slideshow",
  "kernelspec": {
   "display_name": "Python 2",
   "language": "python",
   "name": "python2"
  },
  "language_info": {
   "codemirror_mode": {
    "name": "ipython",
    "version": 2
   },
   "file_extension": ".py",
   "mimetype": "text/x-python",
   "name": "python",
   "nbconvert_exporter": "python",
   "pygments_lexer": "ipython2",
   "version": "2.7.5"
  },
  "toc": {
   "toc_cell": false,
   "toc_number_sections": true,
   "toc_threshold": 6,
   "toc_window_display": false
  },
  "widgets": {
   "state": {},
   "version": "1.0.0"
  }
 },
 "nbformat": 4,
 "nbformat_minor": 0
}
